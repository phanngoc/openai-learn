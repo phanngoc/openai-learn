{
 "cells": [
  {
   "cell_type": "code",
   "execution_count": 2,
   "metadata": {},
   "outputs": [],
   "source": [
    "import cleantext"
   ]
  },
  {
   "cell_type": "code",
   "execution_count": 3,
   "metadata": {},
   "outputs": [
    {
     "data": {
      "text/plain": [
       "'yourrawtexther'"
      ]
     },
     "execution_count": 3,
     "metadata": {},
     "output_type": "execute_result"
    }
   ],
   "source": [
    "cleantext.clean(\"your_raw_text_here\") "
   ]
  },
  {
   "cell_type": "code",
   "execution_count": 6,
   "metadata": {},
   "outputs": [
    {
     "data": {
      "text/plain": [
       "['vàng',\n",
       " 'thế',\n",
       " 'giới',\n",
       " 'giảm',\n",
       " 'giá',\n",
       " 'sau',\n",
       " 'khi',\n",
       " 'chủ',\n",
       " 'tịch',\n",
       " 'fed',\n",
       " 'chi',\n",
       " 'nhánh',\n",
       " 'new',\n",
       " 'york',\n",
       " 'tiết',\n",
       " 'lộ',\n",
       " '“hiện',\n",
       " 'tại',\n",
       " 'chúng',\n",
       " 'tôi',\n",
       " 'chưa',\n",
       " 'thực',\n",
       " 'sự',\n",
       " 'nói',\n",
       " 'về',\n",
       " 'việc',\n",
       " 'giảm',\n",
       " 'lãi',\n",
       " 'suất”',\n",
       " 'trong',\n",
       " 'một',\n",
       " 'cuộc',\n",
       " 'trả',\n",
       " 'lời',\n",
       " 'phỏng',\n",
       " 'vấn',\n",
       " 'giá',\n",
       " 'vàng',\n",
       " 'trong',\n",
       " 'nước',\n",
       " 'sáng',\n",
       " 'nay',\n",
       " 'ít',\n",
       " 'biến',\n",
       " 'động',\n",
       " 'chênh',\n",
       " 'lệch',\n",
       " 'với',\n",
       " 'giá',\n",
       " 'vàng',\n",
       " 'quốc',\n",
       " 'tế',\n",
       " 'lại',\n",
       " 'tăng',\n",
       " 'mạnh']"
      ]
     },
     "execution_count": 6,
     "metadata": {},
     "output_type": "execute_result"
    }
   ],
   "source": [
    "text = \"\"\"Vàng thế giới giảm giá sau khi Chủ tịch Fed chi nhánh New York tiết lộ “hiện tại, \n",
    "    chúng tôi chưa thực sự nói về việc giảm lãi suất” trong một cuộc trả lời phỏng vấn. Giá vàng \n",
    "    trong nước sáng nay (16/12) ít biến động, chênh lệch với giá vàng quốc tế lại tăng mạnh...\"\"\"\n",
    "\n",
    "cleantext.clean_words(\n",
    "    text,\n",
    "    clean_all= False, # Execute all cleaning operations\n",
    "    extra_spaces=True ,  # Remove extra white spaces \n",
    "    stemming=True , # Stem the words\n",
    "    stopwords=True ,# Remove stop words\n",
    "    lowercase=True ,# Convert to lowercase\n",
    "    numbers=True ,# Remove all digits \n",
    "    punct=True ,# Remove all punctuations\n",
    "    stp_lang='english'  # Language for stop words\n",
    ")"
   ]
  }
 ],
 "metadata": {
  "kernelspec": {
   "display_name": "Python 3",
   "language": "python",
   "name": "python3"
  },
  "language_info": {
   "codemirror_mode": {
    "name": "ipython",
    "version": 3
   },
   "file_extension": ".py",
   "mimetype": "text/x-python",
   "name": "python",
   "nbconvert_exporter": "python",
   "pygments_lexer": "ipython3",
   "version": "3.10.3"
  }
 },
 "nbformat": 4,
 "nbformat_minor": 2
}
