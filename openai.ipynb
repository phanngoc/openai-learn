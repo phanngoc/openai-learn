{
 "cells": [
  {
   "cell_type": "code",
   "execution_count": 43,
   "metadata": {},
   "outputs": [],
   "source": [
    "import openai\n",
    "from openai import OpenAI\n",
    "import dotenv\n",
    "import os\n",
    "\n",
    "# Load environment variables from file\n",
    "dotenv.load_dotenv('.env')\n",
    "\n",
    "apiKey = os.getenv(\"OPENAI_API_KEY\")\n",
    "client = OpenAI(api_key=apiKey)\n",
    "\n",
    "# openai.api_key = apiKey"
   ]
  },
  {
   "cell_type": "code",
   "execution_count": 39,
   "metadata": {},
   "outputs": [],
   "source": [
    "def ask_chat(text, system_prompt = ''):\n",
    "    messages = [\n",
    "        {\"role\": \"system\", \"content\": f\"{system_prompt}\"},\n",
    "        {\"role\": \"user\", \"content\": text},\n",
    "    ]\n",
    "    response = client.chat.completions.create(\n",
    "        model='gpt-3.5-turbo',\n",
    "        messages=messages,\n",
    "        max_tokens=1000,\n",
    "        top_p=1.0,\n",
    "        n=1,\n",
    "        stop=None,\n",
    "        temperature=0.7)\n",
    "\n",
    "    summary = response.choices\n",
    "\n",
    "    return summary\n"
   ]
  },
  {
   "cell_type": "code",
   "execution_count": 40,
   "metadata": {},
   "outputs": [
    {
     "name": "stdout",
     "output_type": "stream",
     "text": [
      "[Choice(finish_reason='stop', index=0, message=ChatCompletionMessage(content='Các yếu tố tích cực: phục hồi mạnh mẽ của kinh tế Việt Nam, tăng trưởng GDP đạt 8,0%, phục hồi tiêu dùng cá nhân và hoạt động sản xuất xuất khẩu mạnh mẽ, cán cân tài khóa thặng dư, Chương trình hỗ trợ kinh tế 2022-2023, chính sách tiền tệ linh hoạt.\\n\\nCác yếu tố tiêu cực: đóng góp của khu vực công hạn chế, đơn đặt hàng và xuất khẩu chậm lại, áp lực lên thị trường lao động, tốc độ tăng trưởng GDP dự kiến chậm lại vào năm 2023, tác động cơ bản thấp từ hậu COVID-19, lạm phát ước tính cao hơn vào năm 2023.', role='assistant', function_call=None, tool_calls=None), logprobs=None)]\n"
     ]
    }
   ],
   "source": [
    "system_prompt = \"\"\"\n",
    "    Với thông tin này thì khuynh hướng chứng khoáng sẽ tăng hay giảm:\n",
    "    Desired format:\n",
    "    Các yếu tố tích cực: <comma_separated_list>\n",
    "    Các yếu tố tiêu cực: -||-\n",
    "    \\n\\n\n",
    "    \"\"\"\n",
    "\n",
    "with open('./data/news.txt', 'r') as file:\n",
    "    text = file.read()\n",
    "\n",
    "result = ask_chat(text, system_prompt)\n",
    "print(result)"
   ]
  }
 ],
 "metadata": {
  "kernelspec": {
   "display_name": "Python 3",
   "language": "python",
   "name": "python3"
  },
  "language_info": {
   "codemirror_mode": {
    "name": "ipython",
    "version": 3
   },
   "file_extension": ".py",
   "mimetype": "text/x-python",
   "name": "python",
   "nbconvert_exporter": "python",
   "pygments_lexer": "ipython3",
   "version": "3.10.3"
  },
  "orig_nbformat": 4,
  "vscode": {
   "interpreter": {
    "hash": "6d9a3ef7ef0260d6fd00998ec8a73b27e2b73d0c13e22c18ec08e86a9f4eea74"
   }
  }
 },
 "nbformat": 4,
 "nbformat_minor": 2
}
