{
 "cells": [
  {
   "cell_type": "code",
   "execution_count": 4,
   "metadata": {},
   "outputs": [],
   "source": [
    "import arxiv\n",
    "\n",
    "# Construct the default API client.\n",
    "client = arxiv.Client()"
   ]
  },
  {
   "cell_type": "code",
   "execution_count": 16,
   "metadata": {},
   "outputs": [
    {
     "name": "stdout",
     "output_type": "stream",
     "text": [
      "<class 'arxiv.arxiv.Result'>\n",
      "Atom holography 1999-04-01 22:16:46+00:00 http://arxiv.org/abs/cond-mat/9904032v1\n",
      "<class 'arxiv.arxiv.Result'>\n",
      "Atomic Alchemy 1994-05-05 08:18:47+00:00 http://arxiv.org/abs/hep-ph/9405230v1\n",
      "<class 'arxiv.arxiv.Result'>\n",
      "Exotic atoms 2004-09-12 08:56:17+00:00 http://arxiv.org/abs/physics/0409058v1\n",
      "<class 'arxiv.arxiv.Result'>\n",
      "Atom Chips 1999-12-23 14:55:04+00:00 http://arxiv.org/abs/quant-ph/9912106v1\n",
      "<class 'arxiv.arxiv.Result'>\n",
      "Atomic Retrodiction 2001-07-04 12:44:49+00:00 http://arxiv.org/abs/quant-ph/0107019v1\n",
      "<class 'arxiv.arxiv.Result'>\n",
      "Atom interferometry 2006-05-05 14:06:40+00:00 http://arxiv.org/abs/quant-ph/0605055v1\n",
      "<class 'arxiv.arxiv.Result'>\n",
      "Atom Interferometers 2007-12-21 08:18:44+00:00 http://arxiv.org/abs/0712.3703v1\n",
      "<class 'arxiv.arxiv.Result'>\n",
      "Atomic Zitterbewegung 2008-03-28 19:26:33+00:00 http://arxiv.org/abs/0803.4189v2\n",
      "<class 'arxiv.arxiv.Result'>\n",
      "Hadronic Atoms 2009-03-02 13:16:29+00:00 http://arxiv.org/abs/0903.0257v2\n",
      "<class 'arxiv.arxiv.Result'>\n",
      "Kernel Atomicity 2014-12-12 12:45:46+00:00 http://arxiv.org/abs/1412.3974v1\n"
     ]
    }
   ],
   "source": [
    "# For advanced query syntax documentation, see the arXiv API User Manual:\n",
    "# https://arxiv.org/help/api/user-manual#query_details\n",
    "search = arxiv.Search(\n",
    "    query=\"ti:atom\", max_results = 10,\n",
    "    sort_by=arxiv.SortCriterion.Relevance)\n",
    "\n",
    "for r in client.results(search):\n",
    "  print(type(r))\n",
    "  r.download_pdf('./data/')\n",
    "  print(r.title, r.published, r.entry_id)\n",
    "\n"
   ]
  },
  {
   "cell_type": "code",
   "execution_count": 3,
   "metadata": {},
   "outputs": [
    {
     "data": {
      "text/plain": [
       "'./1605.08386v1.Heat_bath_random_walks_with_Markov_bases.pdf'"
      ]
     },
     "execution_count": 3,
     "metadata": {},
     "output_type": "execute_result"
    }
   ],
   "source": [
    "paper = next(arxiv.Client().results(arxiv.Search(id_list=[\"1605.08386v1\"])))\n",
    "# Download the PDF to the PWD with a default filename.\n",
    "paper.download_pdf('./data/')"
   ]
  }
 ],
 "metadata": {
  "kernelspec": {
   "display_name": "Python 3",
   "language": "python",
   "name": "python3"
  },
  "language_info": {
   "codemirror_mode": {
    "name": "ipython",
    "version": 3
   },
   "file_extension": ".py",
   "mimetype": "text/x-python",
   "name": "python",
   "nbconvert_exporter": "python",
   "pygments_lexer": "ipython3",
   "version": "3.10.3"
  }
 },
 "nbformat": 4,
 "nbformat_minor": 2
}
